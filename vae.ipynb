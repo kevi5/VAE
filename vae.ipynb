{
  "nbformat": 4,
  "nbformat_minor": 0,
  "metadata": {
    "colab": {
      "name": "vae.ipynb",
      "provenance": [],
      "collapsed_sections": []
    },
    "kernelspec": {
      "name": "python3",
      "display_name": "Python 3"
    },
    "accelerator": "GPU"
  },
  "cells": [
    {
      "cell_type": "markdown",
      "metadata": {
        "id": "74KEu1L8OnLq"
      },
      "source": [
        "# Variational Autoencoder"
      ]
    },
    {
      "cell_type": "code",
      "metadata": {
        "id": "naC94KtXOnLt",
        "colab": {
          "base_uri": "https://localhost:8080/"
        },
        "outputId": "077c5ba6-84fb-434c-d69c-cfc325c90c3f"
      },
      "source": [
        "%tensorflow_version 1.x\n",
        "\n",
        "try:\n",
        "    import google.colab\n",
        "    IN_COLAB = True\n",
        "except:\n",
        "    IN_COLAB = False\n",
        "if IN_COLAB:\n",
        "    print(\"Downloading Colab files\")\n",
        "    ! shred -u setup_google_colab.py\n",
        "    ! wget https://raw.githubusercontent.com/hse-aml/bayesian-methods-for-ml/master/setup_google_colab.py -O setup_google_colab.py\n",
        "    import setup_google_colab\n",
        "    setup_google_colab.load_data_week5()"
      ],
      "execution_count": null,
      "outputs": [
        {
          "output_type": "stream",
          "text": [
            "TensorFlow 1.x selected.\n",
            "Downloading Colab files\n",
            "--2021-08-06 01:44:27--  https://raw.githubusercontent.com/hse-aml/bayesian-methods-for-ml/master/setup_google_colab.py\n",
            "Resolving raw.githubusercontent.com (raw.githubusercontent.com)... 185.199.108.133, 185.199.109.133, 185.199.110.133, ...\n",
            "Connecting to raw.githubusercontent.com (raw.githubusercontent.com)|185.199.108.133|:443... connected.\n",
            "HTTP request sent, awaiting response... 200 OK\n",
            "Length: 1232 (1.2K) [text/plain]\n",
            "Saving to: ‘setup_google_colab.py’\n",
            "\n",
            "setup_google_colab. 100%[===================>]   1.20K  --.-KB/s    in 0s      \n",
            "\n",
            "2021-08-06 01:44:27 (72.3 MB/s) - ‘setup_google_colab.py’ saved [1232/1232]\n",
            "\n",
            "https://raw.githubusercontent.com/hse-aml/bayesian-methods-for-ml/master/week5/w5_grader.py w5_grader.py\n",
            "https://raw.githubusercontent.com/hse-aml/bayesian-methods-for-ml/master/week5/test_data.npz test_data.npz\n"
          ],
          "name": "stdout"
        }
      ]
    },
    {
      "cell_type": "code",
      "metadata": {
        "id": "H-hJ6_wBOnLz",
        "colab": {
          "base_uri": "https://localhost:8080/"
        },
        "outputId": "ba35f7f0-259b-4b4c-eca1-dab9a0a531fb"
      },
      "source": [
        "import tensorflow as tf\n",
        "import keras\n",
        "import numpy as np\n",
        "import matplotlib.pyplot as plt\n",
        "\n",
        "from keras.layers import Input, Dense, Lambda, InputLayer, concatenate\n",
        "from keras.models import Model, Sequential\n",
        "from keras import backend as K\n",
        "from keras import metrics\n",
        "from keras.datasets import mnist\n",
        "from keras.utils import np_utils\n",
        "from w5_grader import VAEGrader"
      ],
      "execution_count": null,
      "outputs": [
        {
          "output_type": "stream",
          "text": [
            "Using TensorFlow backend.\n"
          ],
          "name": "stderr"
        }
      ]
    },
    {
      "cell_type": "markdown",
      "metadata": {
        "id": "RnkOQUeSOnL5"
      },
      "source": [
        "### Variational Autoencoder"
      ]
    },
    {
      "cell_type": "markdown",
      "metadata": {
        "id": "fVszOw7ROnL8"
      },
      "source": [
        "### Loss Function"
      ]
    },
    {
      "cell_type": "code",
      "metadata": {
        "id": "OwynsmjaOnL-"
      },
      "source": [
        "def vlb_binomial(x, x_decoded_mean, t_mean, t_log_var):\n",
        "    reconstruction_loss=-K.mean(K.sum(x*K.log(x_decoded_mean+1e-6)+(1-x)*K.log(1-x_decoded_mean+1e-6),axis=1))\n",
        "    Kl=K.mean(0.5*K.sum(K.square(t_mean)+K.exp(t_log_var)-t_log_var-1,axis=1))\n",
        "    return reconstruction_loss+ Kl"
      ],
      "execution_count": null,
      "outputs": []
    },
    {
      "cell_type": "markdown",
      "metadata": {
        "id": "JIajOY9bOnMK"
      },
      "source": [
        "## Encoder / decoder"
      ]
    },
    {
      "cell_type": "code",
      "metadata": {
        "id": "uY_dcGHmOnML",
        "colab": {
          "base_uri": "https://localhost:8080/"
        },
        "outputId": "6f214552-c27b-4f44-bb30-e8fb5d910296"
      },
      "source": [
        "batch_size = 100\n",
        "original_dim = 784 # Number of pixels in MNIST images.\n",
        "latent_dim = 100 # d, dimensionality of the latent code t.\n",
        "intermediate_dim = 256 # Size of the hidden layer.\n",
        "epochs = 30\n",
        "\n",
        "x = Input(batch_shape=(batch_size, original_dim))\n",
        "def create_encoder(input_dim):\n",
        "    encoder = Sequential(name='encoder')\n",
        "    encoder.add(InputLayer([input_dim]))\n",
        "    encoder.add(Dense(intermediate_dim, activation='relu'))\n",
        "    encoder.add(Dense(2 * latent_dim))\n",
        "    return encoder\n",
        "encoder = create_encoder(original_dim)\n",
        "\n",
        "get_t_mean = Lambda(lambda h: h[:, :latent_dim])\n",
        "get_t_log_var = Lambda(lambda h: h[:, latent_dim:])\n",
        "h = encoder(x)\n",
        "t_mean = get_t_mean(h)\n",
        "t_log_var = get_t_log_var(h)\n",
        "\n",
        "\n",
        "def sampling(args):\n",
        "    t_mean, t_log_var = args\n",
        "    return t_mean+K.exp(0.5*t_log_var)*K.random_normal(t_mean.shape)\n",
        "\n",
        "t = Lambda(sampling)([t_mean, t_log_var])\n",
        "\n",
        "def create_decoder(input_dim):\n",
        "    decoder = Sequential(name='decoder')\n",
        "    decoder.add(InputLayer([input_dim]))\n",
        "    decoder.add(Dense(intermediate_dim, activation='relu'))\n",
        "    decoder.add(Dense(original_dim, activation='sigmoid'))\n",
        "    return decoder\n",
        "decoder = create_decoder(latent_dim)\n",
        "x_decoded_mean = decoder(t)"
      ],
      "execution_count": null,
      "outputs": [
        {
          "output_type": "stream",
          "text": [
            "WARNING:tensorflow:From /tensorflow-1.15.2/python3.7/tensorflow_core/python/ops/resource_variable_ops.py:1630: calling BaseResourceVariable.__init__ (from tensorflow.python.ops.resource_variable_ops) with constraint is deprecated and will be removed in a future version.\n",
            "Instructions for updating:\n",
            "If using Keras pass *_constraint arguments to layers.\n"
          ],
          "name": "stdout"
        }
      ]
    },
    {
      "cell_type": "markdown",
      "metadata": {
        "id": "nktDqnapOnMS"
      },
      "source": [
        "## Training the model"
      ]
    },
    {
      "cell_type": "code",
      "metadata": {
        "id": "ZC2LPovUOnMU"
      },
      "source": [
        "loss = vlb_binomial(x, x_decoded_mean, t_mean, t_log_var)\n",
        "vae = Model(x, x_decoded_mean)\n",
        "vae.compile(optimizer=keras.optimizers.RMSprop(lr=0.001), loss=lambda x, y: loss)"
      ],
      "execution_count": null,
      "outputs": []
    },
    {
      "cell_type": "markdown",
      "metadata": {
        "id": "SVJQG9l4OnMY"
      },
      "source": [
        "#### Load and preparing the data"
      ]
    },
    {
      "cell_type": "code",
      "metadata": {
        "id": "AS79kH0VOnMZ"
      },
      "source": [
        "(x_train, y_train), (x_test, y_test) = mnist.load_data()\n",
        "y_train = np_utils.to_categorical(y_train)\n",
        "y_test = np_utils.to_categorical(y_test)\n",
        "\n",
        "x_train = x_train.astype('float32') / 255.\n",
        "x_test = x_test.astype('float32') / 255.\n",
        "x_train = x_train.reshape((len(x_train), np.prod(x_train.shape[1:])))\n",
        "x_test = x_test.reshape((len(x_test), np.prod(x_test.shape[1:])))"
      ],
      "execution_count": null,
      "outputs": []
    },
    {
      "cell_type": "markdown",
      "metadata": {
        "id": "EnWfL2xrOnMb"
      },
      "source": [
        "#### Train the model"
      ]
    },
    {
      "cell_type": "code",
      "metadata": {
        "id": "J_-zXvnpOnMc",
        "colab": {
          "base_uri": "https://localhost:8080/"
        },
        "outputId": "9d630dd7-5fde-4de9-af8e-bd848b2ce282"
      },
      "source": [
        "hist = vae.fit(x=x_train, y=x_train,\n",
        "               shuffle=True,\n",
        "               epochs=epochs,\n",
        "               batch_size=batch_size,\n",
        "               validation_data=(x_test, x_test),\n",
        "               verbose=2)"
      ],
      "execution_count": null,
      "outputs": [
        {
          "output_type": "stream",
          "text": [
            "WARNING:tensorflow:From /tensorflow-1.15.2/python3.7/keras/backend/tensorflow_backend.py:422: The name tf.global_variables is deprecated. Please use tf.compat.v1.global_variables instead.\n",
            "\n",
            "Train on 60000 samples, validate on 10000 samples\n",
            "Epoch 1/30\n",
            " - 2s - loss: 164.9993 - val_loss: 141.1204\n",
            "Epoch 2/30\n",
            " - 2s - loss: 136.0277 - val_loss: 128.5908\n",
            "Epoch 3/30\n",
            " - 2s - loss: 125.8133 - val_loss: 121.2084\n",
            "Epoch 4/30\n",
            " - 2s - loss: 119.2267 - val_loss: 115.6778\n",
            "Epoch 5/30\n",
            " - 2s - loss: 115.3557 - val_loss: 112.7666\n",
            "Epoch 6/30\n",
            " - 2s - loss: 112.9880 - val_loss: 110.9659\n",
            "Epoch 7/30\n",
            " - 2s - loss: 111.4742 - val_loss: 109.7732\n",
            "Epoch 8/30\n",
            " - 2s - loss: 110.3786 - val_loss: 110.1039\n",
            "Epoch 9/30\n",
            " - 2s - loss: 109.7235 - val_loss: 110.1031\n",
            "Epoch 10/30\n",
            " - 2s - loss: 109.1494 - val_loss: 109.2405\n",
            "Epoch 11/30\n",
            " - 2s - loss: 108.6439 - val_loss: 107.5201\n",
            "Epoch 12/30\n",
            " - 2s - loss: 108.3479 - val_loss: 108.7084\n",
            "Epoch 13/30\n",
            " - 2s - loss: 108.0035 - val_loss: 108.0131\n",
            "Epoch 14/30\n",
            " - 2s - loss: 107.7367 - val_loss: 106.9239\n",
            "Epoch 15/30\n",
            " - 2s - loss: 107.4860 - val_loss: 107.1913\n",
            "Epoch 16/30\n",
            " - 2s - loss: 107.2688 - val_loss: 107.4786\n",
            "Epoch 17/30\n",
            " - 2s - loss: 107.0788 - val_loss: 106.5893\n",
            "Epoch 18/30\n",
            " - 2s - loss: 106.8921 - val_loss: 107.1420\n",
            "Epoch 19/30\n",
            " - 2s - loss: 106.7498 - val_loss: 106.5144\n",
            "Epoch 20/30\n",
            " - 2s - loss: 106.6081 - val_loss: 106.7404\n",
            "Epoch 21/30\n",
            " - 2s - loss: 106.4438 - val_loss: 106.5512\n",
            "Epoch 22/30\n",
            " - 2s - loss: 106.3809 - val_loss: 106.1048\n",
            "Epoch 23/30\n",
            " - 2s - loss: 106.2861 - val_loss: 106.0079\n",
            "Epoch 24/30\n",
            " - 2s - loss: 106.1686 - val_loss: 106.3115\n",
            "Epoch 25/30\n",
            " - 2s - loss: 106.0395 - val_loss: 105.5523\n",
            "Epoch 26/30\n",
            " - 2s - loss: 105.9494 - val_loss: 105.8436\n",
            "Epoch 27/30\n",
            " - 2s - loss: 105.8285 - val_loss: 105.5189\n",
            "Epoch 28/30\n",
            " - 2s - loss: 105.8248 - val_loss: 105.3043\n",
            "Epoch 29/30\n",
            " - 2s - loss: 105.7275 - val_loss: 106.2632\n",
            "Epoch 30/30\n",
            " - 2s - loss: 105.6494 - val_loss: 105.3289\n"
          ],
          "name": "stdout"
        }
      ]
    },
    {
      "cell_type": "markdown",
      "metadata": {
        "id": "WEclzA3WOnMk"
      },
      "source": [
        "## New data"
      ]
    },
    {
      "cell_type": "code",
      "metadata": {
        "id": "jGLqzZD4OnMm"
      },
      "source": [
        "n_samples = 10 \n",
        "sampled_im_mean = decoder(tf.random_normal((n_samples, latent_dim)))"
      ],
      "execution_count": null,
      "outputs": []
    },
    {
      "cell_type": "code",
      "metadata": {
        "id": "1Lzh_yW0OnMo",
        "colab": {
          "base_uri": "https://localhost:8080/",
          "height": 165
        },
        "outputId": "148e76df-064e-4773-de64-ad7411b9670b"
      },
      "source": [
        "sampled_im_mean_np = sess.run(sampled_im_mean)\n",
        "plt.figure()\n",
        "for i in range(n_samples):\n",
        "    ax = plt.subplot(n_samples // 5 + 1, 5, i + 1)\n",
        "    plt.imshow(sampled_im_mean_np[i, :].reshape(28, 28), cmap='gray')\n",
        "    ax.axis('off')\n",
        "plt.show()"
      ],
      "execution_count": null,
      "outputs": [
        {
          "output_type": "display_data",
          "data": {
            "image/png": "[encoded data removed]",
            "text/plain": [
              "<Figure size 432x288 with 10 Axes>"
            ]
          },
          "metadata": {
            "tags": [],
            "needs_background": "light"
          }
        }
      ]
    }
  ]
}